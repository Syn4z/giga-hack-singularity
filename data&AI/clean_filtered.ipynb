{
 "cells": [
  {
   "cell_type": "code",
   "execution_count": 3,
   "id": "efbf1323",
   "metadata": {},
   "outputs": [],
   "source": [
    "# load csv\n",
    "import pandas as pd\n",
    "import numpy as np\n",
    "import matplotlib.pyplot as plt\n"
   ]
  },
  {
   "cell_type": "code",
   "execution_count": 6,
   "id": "93e36fe2",
   "metadata": {},
   "outputs": [
    {
     "data": {
      "text/plain": [
       "Index(['meter_id', 'energy_import', 'energy_export', 'datetime',\n",
       "       'import_consumption', 'export_consumption', 'hour', 'day', 'date',\n",
       "       'net_consumption'],\n",
       "      dtype='object')"
      ]
     },
     "execution_count": 6,
     "metadata": {},
     "output_type": "execute_result"
    }
   ],
   "source": [
    "df = pd.read_csv('filtered_data.csv')\n",
    "df.columns"
   ]
  },
  {
   "cell_type": "code",
   "execution_count": 9,
   "id": "f20a1f2f",
   "metadata": {},
   "outputs": [],
   "source": [
    "df = df[['meter_id', 'energy_import', 'energy_export', 'datetime', 'import_consumption', 'export_consumption']]"
   ]
  },
  {
   "cell_type": "code",
   "execution_count": 10,
   "id": "7e510b95",
   "metadata": {},
   "outputs": [
    {
     "data": {
      "text/html": [
       "<div>\n",
       "<style scoped>\n",
       "    .dataframe tbody tr th:only-of-type {\n",
       "        vertical-align: middle;\n",
       "    }\n",
       "\n",
       "    .dataframe tbody tr th {\n",
       "        vertical-align: top;\n",
       "    }\n",
       "\n",
       "    .dataframe thead th {\n",
       "        text-align: right;\n",
       "    }\n",
       "</style>\n",
       "<table border=\"1\" class=\"dataframe\">\n",
       "  <thead>\n",
       "    <tr style=\"text-align: right;\">\n",
       "      <th></th>\n",
       "      <th>meter_id</th>\n",
       "      <th>energy_import</th>\n",
       "      <th>energy_export</th>\n",
       "      <th>datetime</th>\n",
       "      <th>import_consumption</th>\n",
       "      <th>export_consumption</th>\n",
       "    </tr>\n",
       "  </thead>\n",
       "  <tbody>\n",
       "    <tr>\n",
       "      <th>0</th>\n",
       "      <td>14381705</td>\n",
       "      <td>1425261.0</td>\n",
       "      <td>403698.0</td>\n",
       "      <td>2025-06-01 12:45:00</td>\n",
       "      <td>0.0</td>\n",
       "      <td>3079.0</td>\n",
       "    </tr>\n",
       "    <tr>\n",
       "      <th>1</th>\n",
       "      <td>14381705</td>\n",
       "      <td>1425261.0</td>\n",
       "      <td>407441.0</td>\n",
       "      <td>2025-06-01 13:00:00</td>\n",
       "      <td>0.0</td>\n",
       "      <td>3743.0</td>\n",
       "    </tr>\n",
       "    <tr>\n",
       "      <th>2</th>\n",
       "      <td>14381705</td>\n",
       "      <td>1425261.0</td>\n",
       "      <td>411968.0</td>\n",
       "      <td>2025-06-01 13:15:00</td>\n",
       "      <td>0.0</td>\n",
       "      <td>4527.0</td>\n",
       "    </tr>\n",
       "    <tr>\n",
       "      <th>3</th>\n",
       "      <td>14381705</td>\n",
       "      <td>1425261.0</td>\n",
       "      <td>415957.0</td>\n",
       "      <td>2025-06-01 13:30:00</td>\n",
       "      <td>0.0</td>\n",
       "      <td>3989.0</td>\n",
       "    </tr>\n",
       "    <tr>\n",
       "      <th>4</th>\n",
       "      <td>14381705</td>\n",
       "      <td>1425261.0</td>\n",
       "      <td>418874.0</td>\n",
       "      <td>2025-06-01 13:45:00</td>\n",
       "      <td>0.0</td>\n",
       "      <td>2917.0</td>\n",
       "    </tr>\n",
       "    <tr>\n",
       "      <th>...</th>\n",
       "      <td>...</td>\n",
       "      <td>...</td>\n",
       "      <td>...</td>\n",
       "      <td>...</td>\n",
       "      <td>...</td>\n",
       "      <td>...</td>\n",
       "    </tr>\n",
       "    <tr>\n",
       "      <th>5955</th>\n",
       "      <td>14463211</td>\n",
       "      <td>985653.0</td>\n",
       "      <td>71576.0</td>\n",
       "      <td>2025-06-08 05:00:00</td>\n",
       "      <td>14.0</td>\n",
       "      <td>3.0</td>\n",
       "    </tr>\n",
       "    <tr>\n",
       "      <th>5956</th>\n",
       "      <td>14463211</td>\n",
       "      <td>985666.0</td>\n",
       "      <td>71578.0</td>\n",
       "      <td>2025-06-08 05:15:00</td>\n",
       "      <td>13.0</td>\n",
       "      <td>2.0</td>\n",
       "    </tr>\n",
       "    <tr>\n",
       "      <th>5957</th>\n",
       "      <td>14463211</td>\n",
       "      <td>985681.0</td>\n",
       "      <td>71581.0</td>\n",
       "      <td>2025-06-08 05:30:00</td>\n",
       "      <td>15.0</td>\n",
       "      <td>3.0</td>\n",
       "    </tr>\n",
       "    <tr>\n",
       "      <th>5958</th>\n",
       "      <td>14463211</td>\n",
       "      <td>985694.0</td>\n",
       "      <td>71583.0</td>\n",
       "      <td>2025-06-08 05:45:00</td>\n",
       "      <td>13.0</td>\n",
       "      <td>2.0</td>\n",
       "    </tr>\n",
       "    <tr>\n",
       "      <th>5959</th>\n",
       "      <td>14463211</td>\n",
       "      <td>985707.0</td>\n",
       "      <td>71585.0</td>\n",
       "      <td>2025-06-08 06:00:00</td>\n",
       "      <td>13.0</td>\n",
       "      <td>2.0</td>\n",
       "    </tr>\n",
       "  </tbody>\n",
       "</table>\n",
       "<p>5960 rows × 6 columns</p>\n",
       "</div>"
      ],
      "text/plain": [
       "      meter_id  energy_import  energy_export             datetime  \\\n",
       "0     14381705      1425261.0       403698.0  2025-06-01 12:45:00   \n",
       "1     14381705      1425261.0       407441.0  2025-06-01 13:00:00   \n",
       "2     14381705      1425261.0       411968.0  2025-06-01 13:15:00   \n",
       "3     14381705      1425261.0       415957.0  2025-06-01 13:30:00   \n",
       "4     14381705      1425261.0       418874.0  2025-06-01 13:45:00   \n",
       "...        ...            ...            ...                  ...   \n",
       "5955  14463211       985653.0        71576.0  2025-06-08 05:00:00   \n",
       "5956  14463211       985666.0        71578.0  2025-06-08 05:15:00   \n",
       "5957  14463211       985681.0        71581.0  2025-06-08 05:30:00   \n",
       "5958  14463211       985694.0        71583.0  2025-06-08 05:45:00   \n",
       "5959  14463211       985707.0        71585.0  2025-06-08 06:00:00   \n",
       "\n",
       "      import_consumption  export_consumption  \n",
       "0                    0.0              3079.0  \n",
       "1                    0.0              3743.0  \n",
       "2                    0.0              4527.0  \n",
       "3                    0.0              3989.0  \n",
       "4                    0.0              2917.0  \n",
       "...                  ...                 ...  \n",
       "5955                14.0                 3.0  \n",
       "5956                13.0                 2.0  \n",
       "5957                15.0                 3.0  \n",
       "5958                13.0                 2.0  \n",
       "5959                13.0                 2.0  \n",
       "\n",
       "[5960 rows x 6 columns]"
      ]
     },
     "execution_count": 10,
     "metadata": {},
     "output_type": "execute_result"
    }
   ],
   "source": [
    "df"
   ]
  },
  {
   "cell_type": "code",
   "execution_count": 12,
   "id": "c4ec3a01",
   "metadata": {},
   "outputs": [
    {
     "name": "stderr",
     "output_type": "stream",
     "text": [
      "C:\\Users\\admin\\AppData\\Local\\Temp\\ipykernel_17460\\1354990154.py:1: SettingWithCopyWarning: \n",
      "A value is trying to be set on a copy of a slice from a DataFrame.\n",
      "Try using .loc[row_indexer,col_indexer] = value instead\n",
      "\n",
      "See the caveats in the documentation: https://pandas.pydata.org/pandas-docs/stable/user_guide/indexing.html#returning-a-view-versus-a-copy\n",
      "  df['import_consumption']= df['import_consumption'] / 1000  # Convert from Watts to kWh\n",
      "C:\\Users\\admin\\AppData\\Local\\Temp\\ipykernel_17460\\1354990154.py:2: SettingWithCopyWarning: \n",
      "A value is trying to be set on a copy of a slice from a DataFrame.\n",
      "Try using .loc[row_indexer,col_indexer] = value instead\n",
      "\n",
      "See the caveats in the documentation: https://pandas.pydata.org/pandas-docs/stable/user_guide/indexing.html#returning-a-view-versus-a-copy\n",
      "  df['export_consumption']= df['export_consumption'] / 1000  # Convert from Watts to kWh\n"
     ]
    }
   ],
   "source": [
    "df['import_consumption']= df['import_consumption'] / 1000  # Convert from Watts to kWh\n",
    "df['export_consumption']= df['export_consumption'] / 1000  # Convert from Watts to kWh"
   ]
  },
  {
   "cell_type": "code",
   "execution_count": 11,
   "id": "cc72e224",
   "metadata": {},
   "outputs": [],
   "source": [
    "df.to_csv('cleaned_filtered_data.csv', index=False)"
   ]
  },
  {
   "cell_type": "code",
   "execution_count": null,
   "id": "101d3169",
   "metadata": {},
   "outputs": [],
   "source": []
  }
 ],
 "metadata": {
  "kernelspec": {
   "display_name": ".venv",
   "language": "python",
   "name": "python3"
  },
  "language_info": {
   "codemirror_mode": {
    "name": "ipython",
    "version": 3
   },
   "file_extension": ".py",
   "mimetype": "text/x-python",
   "name": "python",
   "nbconvert_exporter": "python",
   "pygments_lexer": "ipython3",
   "version": "3.13.5"
  }
 },
 "nbformat": 4,
 "nbformat_minor": 5
}
